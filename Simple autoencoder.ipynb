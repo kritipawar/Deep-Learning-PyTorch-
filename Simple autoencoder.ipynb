{
 "cells": [
  {
   "cell_type": "code",
   "execution_count": 1,
   "metadata": {},
   "outputs": [],
   "source": [
    "import torch\n",
    "import torch.nn as nn\n",
    "import torch.nn.functional as F"
   ]
  },
  {
   "cell_type": "code",
   "execution_count": 2,
   "metadata": {},
   "outputs": [],
   "source": [
    "encoder = nn.Sequential(nn.Linear(10,20), nn.Sigmoid())\n",
    "decoder = nn.Sequential(nn.Linear(20,10), nn.Sigmoid())\n",
    "autoencoder = nn.Sequential(encoder, decoder)"
   ]
  },
  {
   "cell_type": "code",
   "execution_count": 3,
   "metadata": {},
   "outputs": [
    {
     "name": "stdout",
     "output_type": "stream",
     "text": [
      "tensor([ 1.3442, -1.1335, -0.7935,  0.3739, -0.0136,  0.2514,  0.0747,  0.2241,\n",
      "         1.9891,  1.9467])\n"
     ]
    }
   ],
   "source": [
    "input = torch.randn(10)\n",
    "print(input)\n",
    "out = encoder(input)\n",
    "ini = decoder(out)\n",
    "#print(out)\n",
    "out1 = autoencoder(input)"
   ]
  },
  {
   "cell_type": "code",
   "execution_count": 4,
   "metadata": {},
   "outputs": [
    {
     "name": "stdout",
     "output_type": "stream",
     "text": [
      "tensor([0.4695, 0.5590, 0.4920, 0.3265, 0.5161, 0.4787, 0.5865, 0.4028, 0.4964,\n",
      "        0.5040], grad_fn=<SigmoidBackward>)\n"
     ]
    }
   ],
   "source": [
    "print(out1)"
   ]
  },
  {
   "cell_type": "code",
   "execution_count": 5,
   "metadata": {},
   "outputs": [
    {
     "name": "stdout",
     "output_type": "stream",
     "text": [
      "tensor([0.5896, 0.4352, 0.3577, 0.3928, 0.5114, 0.4778, 0.2666, 0.2954, 0.5819,\n",
      "        0.7567, 0.5047, 0.7899, 0.7774, 0.5405, 0.7053, 0.2440, 0.3734, 0.3845,\n",
      "        0.4777, 0.7736], grad_fn=<SigmoidBackward>)\n"
     ]
    }
   ],
   "source": [
    "print(out)"
   ]
  },
  {
   "cell_type": "code",
   "execution_count": 6,
   "metadata": {
    "scrolled": true
   },
   "outputs": [
    {
     "name": "stdout",
     "output_type": "stream",
     "text": [
      "tensor([0.4695, 0.5590, 0.4920, 0.3265, 0.5161, 0.4787, 0.5865, 0.4028, 0.4964,\n",
      "        0.5040], grad_fn=<SigmoidBackward>)\n"
     ]
    }
   ],
   "source": [
    "print(ini)"
   ]
  },
  {
   "cell_type": "code",
   "execution_count": 7,
   "metadata": {},
   "outputs": [
    {
     "name": "stdout",
     "output_type": "stream",
     "text": [
      "tensor([ 1.3442, -1.1335, -0.7935,  0.3739, -0.0136,  0.2514,  0.0747,  0.2241,\n",
      "         1.9891,  1.9467])\n"
     ]
    }
   ],
   "source": [
    "print(input)"
   ]
  },
  {
   "cell_type": "code",
   "execution_count": null,
   "metadata": {},
   "outputs": [],
   "source": []
  }
 ],
 "metadata": {
  "kernelspec": {
   "display_name": "Python 3",
   "language": "python",
   "name": "python3"
  },
  "language_info": {
   "codemirror_mode": {
    "name": "ipython",
    "version": 3
   },
   "file_extension": ".py",
   "mimetype": "text/x-python",
   "name": "python",
   "nbconvert_exporter": "python",
   "pygments_lexer": "ipython3",
   "version": "3.6.5"
  }
 },
 "nbformat": 4,
 "nbformat_minor": 2
}
